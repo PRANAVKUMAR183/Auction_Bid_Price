{
 "cells": [
  {
   "cell_type": "code",
   "execution_count": 8,
   "id": "3841755c-d2c0-40c5-a45c-282065c4ceaa",
   "metadata": {},
   "outputs": [
    {
     "name": "stdin",
     "output_type": "stream",
     "text": [
      "What is your name:  Pranav \n",
      "What is your bid price?:$ 99\n",
      "Is there any other bidder?Yes or No:  yes\n"
     ]
    },
    {
     "name": "stdout",
     "output_type": "stream",
     "text": [
      "\n",
      "\n",
      "\n",
      "\n",
      "\n",
      "\n",
      "\n",
      "\n",
      "\n",
      "\n",
      "\n",
      "\n",
      "\n",
      "\n",
      "\n",
      "\n",
      "\n",
      "\n",
      "\n",
      "\n",
      "\n"
     ]
    },
    {
     "name": "stdin",
     "output_type": "stream",
     "text": [
      "What is your name:  Abhiram\n",
      "What is your bid price?:$ 101\n",
      "Is there any other bidder?Yes or No:  no\n"
     ]
    },
    {
     "name": "stdout",
     "output_type": "stream",
     "text": [
      "The winner is Abhiram with a bid_price of 101\n"
     ]
    }
   ],
   "source": [
    "def highest_bidder(bidding_dictionary):\n",
    "    highest_bid=0\n",
    "    winner=\"\"\n",
    "    for bidder in bidding_dictionary:\n",
    "        bidder_price=bidding_dictionary[bidder]\n",
    "        if bidder_price>highest_bid:\n",
    "            highest_bid=bidder_price\n",
    "            winner=bidder\n",
    "    print(f\"The winner is {winner} with a bid_price of {highest_bid}\")\n",
    "\n",
    "data={}\n",
    "auction=True\n",
    "while auction:\n",
    "    name = input(\"What is your name: \")\n",
    "    bid_price = int(input(\"What is your bid price?:$\"))\n",
    "    data[name] = bid_price\n",
    "    new_bid = input(\"Is there any other bidder?Yes or No: \").lower()\n",
    "    if new_bid==\"no\":\n",
    "        auction=False\n",
    "        highest_bidder(data)\n",
    "    elif new_bid==\"yes\":\n",
    "        print(\"\\n\"*20)\n"
   ]
  },
  {
   "cell_type": "code",
   "execution_count": null,
   "id": "7fca3d79-428c-4d23-b8ea-1e9a00a177ff",
   "metadata": {},
   "outputs": [],
   "source": []
  }
 ],
 "metadata": {
  "kernelspec": {
   "display_name": "Python 3 (ipykernel)",
   "language": "python",
   "name": "python3"
  },
  "language_info": {
   "codemirror_mode": {
    "name": "ipython",
    "version": 3
   },
   "file_extension": ".py",
   "mimetype": "text/x-python",
   "name": "python",
   "nbconvert_exporter": "python",
   "pygments_lexer": "ipython3",
   "version": "3.12.4"
  }
 },
 "nbformat": 4,
 "nbformat_minor": 5
}
